{
 "cells": [
  {
   "cell_type": "code",
   "execution_count": 1,
   "metadata": {},
   "outputs": [],
   "source": [
    "import numpy as np\n",
    "import random\n",
    "\n",
    "import matplotlib.pyplot as plt"
   ]
  },
  {
   "cell_type": "code",
   "execution_count": 2,
   "metadata": {},
   "outputs": [],
   "source": [
    "# generate 2d data\n",
    "np.random.seed(42)\n",
    "\n",
    "\n",
    "x = np.random.rand(100).round(3)\n",
    "y = np.random.rand(x.shape[0]).round(3)"
   ]
  },
  {
   "cell_type": "code",
   "execution_count": 6,
   "metadata": {},
   "outputs": [
    {
     "name": "stdout",
     "output_type": "stream",
     "text": [
      "data shape\n",
      "(100, 2)\n",
      "first 5 points\n",
      "[[0.375 0.031]\n",
      " [0.951 0.636]\n",
      " [0.732 0.314]\n",
      " [0.599 0.509]\n",
      " [0.156 0.908]]\n"
     ]
    }
   ],
   "source": [
    "POINTS = np.concatenate([x.reshape(-1, 1), y.reshape(-1, 1)], axis=1)\n",
    "print('data shape')\n",
    "print(POINTS.shape)\n",
    "print('first 5 points')\n",
    "print(POINTS[:5, :])"
   ]
  },
  {
   "cell_type": "code",
   "execution_count": 15,
   "metadata": {},
   "outputs": [
    {
     "data": {
      "text/plain": [
       "[<matplotlib.lines.Line2D at 0x12e2ce500>]"
      ]
     },
     "execution_count": 15,
     "metadata": {},
     "output_type": "execute_result"
    },
    {
     "data": {
      "image/png": "[encoded data removed]",
      "text/plain": [
       "<Figure size 432x288 with 1 Axes>"
      ]
     },
     "metadata": {
      "needs_background": "light"
     },
     "output_type": "display_data"
    }
   ],
   "source": [
    "plt.plot(x, y, linestyle=\"None\", marker='o', color='k', markersize=3)"
   ]
  },
  {
   "cell_type": "code",
   "execution_count": 18,
   "metadata": {},
   "outputs": [],
   "source": [
    "def calc_distance(point_A: tuple, point_B: tuple) -> float:\n",
    "    \"\"\"\n",
    "    >>> cal_distance((0, 0), (0, 1))\n",
    "    >>> 1\n",
    "\n",
    "    >>> cal_distance((0, 0), (1, 1))\n",
    "    >>> sqrt(2)\n",
    "    \"\"\"\n",
    "    dist = ((point_B[0] - point_A[0])**2 + (point_B[1] - point_A[1])**2) ** .5\n",
    "\n",
    "    return dist\n",
    "\n",
    "assert calc_distance((0, 0), (1, 1)) == 2 ** .5\n",
    "assert calc_distance((2, 2), (3, 4)) == 5 ** .5"
   ]
  },
  {
   "cell_type": "code",
   "execution_count": 21,
   "metadata": {},
   "outputs": [
    {
     "data": {
      "text/plain": [
       "array([[0.10147154, 0.66350177],\n",
       "       [0.00506158, 0.16080805],\n",
       "       [0.54873379, 0.6918952 ]])"
      ]
     },
     "execution_count": 21,
     "metadata": {},
     "output_type": "execute_result"
    }
   ],
   "source": [
    "# initialize random centrois\n",
    "NUM_CENTROIDS = 3\n",
    "centroids = np.random.rand(NUM_CENTROIDS, 2)\n",
    "centroids "
   ]
  },
  {
   "cell_type": "code",
   "execution_count": 22,
   "metadata": {},
   "outputs": [],
   "source": [
    "# (1) calculate distance between each centroid and each point\n",
    "\n",
    "x_delta = (centroids[:, 0].reshape(-1, 1) - POINTS[:, 0])\n",
    "y_delta = (centroids[:, 1].reshape(-1, 1) - POINTS[:, 1])\n",
    "delta = (x_delta ** 2 + y_delta ** 2) ** .5"
   ]
  },
  {
   "cell_type": "code",
   "execution_count": 24,
   "metadata": {},
   "outputs": [
    {
     "name": "stdout",
     "output_type": "stream",
     "text": [
      "(3, 100)\n",
      "[[0.68911269 0.8499735  0.72091443 0.5209658  0.25050497]\n",
      " [0.39205173 1.05858721 0.74290459 0.68847692 0.76228486]\n",
      " [0.68334903 0.40613099 0.41998962 0.18967695 0.44826456]]\n"
     ]
    }
   ],
   "source": [
    "print(delta.shape)\n",
    "print(delta[:, :5])"
   ]
  },
  {
   "cell_type": "code",
   "execution_count": 25,
   "metadata": {},
   "outputs": [
    {
     "name": "stdout",
     "output_type": "stream",
     "text": [
      "[0.375 0.031]\n",
      "0.6891126938222145\n",
      "0.39205173377907193\n",
      "0.6833490264139822\n"
     ]
    }
   ],
   "source": [
    "# verify\n",
    "print(POINTS[0])\n",
    "\n",
    "print(calc_distance(POINTS[0], centroids[0]))\n",
    "print(calc_distance(POINTS[0], centroids[1]))\n",
    "print(calc_distance(POINTS[0], centroids[2]))"
   ]
  },
  {
   "cell_type": "code",
   "execution_count": 30,
   "metadata": {},
   "outputs": [
    {
     "data": {
      "text/plain": [
       "array([1, 2, 2, 2, 0])"
      ]
     },
     "execution_count": 30,
     "metadata": {},
     "output_type": "execute_result"
    }
   ],
   "source": [
    "# (2) find nearest points\n",
    "nearest_centroid = np.argmin(delta, axis=0)\n",
    "nearest_centroid[:5]"
   ]
  },
  {
   "cell_type": "code",
   "execution_count": 37,
   "metadata": {},
   "outputs": [],
   "source": [
    "# (3) re-assign groups\n",
    "groups = {}\n",
    "for group_num, _ in enumerate(centroids):\n",
    "    groups[group_num] = POINTS[np.where(nearest_centroid==group_num)]"
   ]
  },
  {
   "cell_type": "code",
   "execution_count": 41,
   "metadata": {},
   "outputs": [
    {
     "name": "stdout",
     "output_type": "stream",
     "text": [
      "0: 22\n",
      "1: 22\n",
      "2: 56\n"
     ]
    }
   ],
   "source": [
    "# (4) find new group centroids\n",
    "new_centroids = []\n",
    "\n",
    "for k, v in groups.items():\n",
    "    print(k, end=': ')\n",
    "    print(len(v))\n",
    "\n",
    "    group_centroid_x = v[:, 0].mean()\n",
    "    group_centroid_y = v[:, 1].mean()\n",
    "\n",
    "    new_centroids.append(np.array([group_centroid_x, group_centroid_y]))\n",
    "\n",
    "new_centroids = np.concatenate(new_centroids).reshape(3, -1)"
   ]
  },
  {
   "cell_type": "code",
   "execution_count": 55,
   "metadata": {},
   "outputs": [
    {
     "name": "stdout",
     "output_type": "stream",
     "text": [
      "0: 33\t1: 31\t2: 36\t0: 33\t1: 31\t2: 36\t0: 33\t1: 31\t2: 36\t0: 33\t1: 31\t2: 36\t0: 33\t1: 31\t2: 36\t0: 33\t1: 31\t2: 36\t0: 33\t1: 31\t2: 36\t0: 33\t1: 31\t2: 36\t0: 33\t1: 31\t2: 36\t0: 33\t1: 31\t2: 36\t0: 33\t1: 31\t2: 36\t0: 33\t1: 31\t2: 36\t0: 33\t1: 31\t2: 36\t0: 33\t1: 31\t2: 36\t0: 33\t1: 31\t2: 36\t0: 33\t1: 31\t2: 36\t0: 33\t1: 31\t2: 36\t0: 33\t1: 31\t2: 36\t0: 33\t1: 31\t2: 36\t0: 33\t1: 31\t2: 36\t0: 33\t1: 31\t2: 36\t0: 33\t1: 31\t2: 36\t0: 33\t1: 31\t2: 36\t0: 33\t1: 31\t2: 36\t0: 33\t1: 31\t2: 36\t0: 33\t1: 31\t2: 36\t0: 33\t1: 31\t2: 36\t0: 33\t1: 31\t2: 36\t0: 33\t1: 31\t2: 36\t0: 33\t1: 31\t2: 36\t0: 33\t1: 31\t2: 36\t0: 33\t1: 31\t2: 36\t0: 33\t1: 31\t2: 36\t0: 33\t1: 31\t2: 36\t0: 33\t1: 31\t2: 36\t0: 33\t1: 31\t2: 36\t0: 33\t1: 31\t2: 36\t0: 33\t1: 31\t2: 36\t0: 33\t1: 31\t2: 36\t0: 33\t1: 31\t2: 36\t0: 33\t1: 31\t2: 36\t0: 33\t1: 31\t2: 36\t0: 33\t1: 31\t2: 36\t0: 33\t1: 31\t2: 36\t0: 33\t1: 31\t2: 36\t0: 33\t1: 31\t2: 36\t0: 33\t1: 31\t2: 36\t0: 33\t1: 31\t2: 36\t0: 33\t1: 31\t2: 36\t0: 33\t1: 31\t2: 36\t"
     ]
    }
   ],
   "source": [
    "# (5) repeat (1) for 50 loops\n",
    "for _ in range(50):\n",
    "\n",
    "    # (1) calculate distance between each centroid and each point\n",
    "    x_delta = (new_centroids[:, 0].reshape(-1, 1) - POINTS[:, 0])\n",
    "    y_delta = (new_centroids[:, 1].reshape(-1, 1) - POINTS[:, 1])\n",
    "    delta = (x_delta ** 2 + y_delta ** 2) ** .5\n",
    "\n",
    "    # (2) find nearest points\n",
    "    nearest_centroid = np.argmin(delta, axis=0)\n",
    "\n",
    "    # (3) re-assign groups\n",
    "    groups = {}\n",
    "    for group_num, _ in enumerate(centroids):\n",
    "        groups[group_num] = POINTS[np.where(nearest_centroid==group_num)]\n",
    "\n",
    "    # (4) find new group centroids\n",
    "    new_centroids = []\n",
    "\n",
    "    for k, v in groups.items():\n",
    "        print(k, end=': ')\n",
    "        print(len(v), end='\\t')\n",
    "\n",
    "        group_centroid_x = v[:, 0].mean()\n",
    "        group_centroid_y = v[:, 1].mean()\n",
    "\n",
    "        new_centroids.append((group_centroid_x, group_centroid_y))\n",
    "\n",
    "    new_centroids = np.concatenate(new_centroids).reshape(3, -1)\n",
    "    print()\n"
   ]
  },
  {
   "cell_type": "code",
   "execution_count": null,
   "metadata": {},
   "outputs": [],
   "source": [
    "# (6) stop when groups dont change for 3 iters for exceeded n iters"
   ]
  },
  {
   "cell_type": "code",
   "execution_count": 62,
   "metadata": {},
   "outputs": [
    {
     "data": {
      "text/plain": [
       "array([[0.25806061, 0.76233333],\n",
       "       [0.31854839, 0.19474194],\n",
       "       [0.79522222, 0.51641667]])"
      ]
     },
     "execution_count": 62,
     "metadata": {},
     "output_type": "execute_result"
    }
   ],
   "source": [
    "new_centroids"
   ]
  },
  {
   "cell_type": "code",
   "execution_count": 63,
   "metadata": {},
   "outputs": [
    {
     "data": {
      "image/png": "[encoded data removed]",
      "text/plain": [
       "<Figure size 432x288 with 1 Axes>"
      ]
     },
     "metadata": {
      "needs_background": "light"
     },
     "output_type": "display_data"
    }
   ],
   "source": [
    "fig, ax = plt.subplots()\n",
    "for grp_num, points in groups.items():\n",
    "    ax.plot(points[:, 0], points[:, 1], linestyle=\"None\", marker='o', markersize=3, label=f'group # {grp_num}')\n",
    "\n",
    "for centroid in new_centroids:\n",
    "    ax.plot(centroid[0], centroid[1], linestyle=\"None\", marker='^', markersize=10, label=f'centroid # {grp_num}')"
   ]
  }
 ],
 "metadata": {
  "kernelspec": {
   "display_name": "Python 3",
   "language": "python",
   "name": "python3"
  },
  "language_info": {
   "codemirror_mode": {
    "name": "ipython",
    "version": 3
   },
   "file_extension": ".py",
   "mimetype": "text/x-python",
   "name": "python",
   "nbconvert_exporter": "python",
   "pygments_lexer": "ipython3",
   "version": "3.10.9"
  },
  "orig_nbformat": 4
 },
 "nbformat": 4,
 "nbformat_minor": 2
}
