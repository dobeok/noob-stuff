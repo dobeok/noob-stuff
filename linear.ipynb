{
 "cells": [
  {
   "cell_type": "code",
   "execution_count": 1,
   "metadata": {},
   "outputs": [],
   "source": [
    "import pandas as pd\n",
    "import numpy as np\n",
    "\n",
    "import matplotlib.pyplot as plt"
   ]
  },
  {
   "cell_type": "code",
   "execution_count": 15,
   "metadata": {},
   "outputs": [],
   "source": [
    "np.random.seed(0)\n",
    "\n",
    "# generate sample data\n",
    "x = np.arange(0, 10, 1)\n",
    "y = 1 + 2 * x + np.random.rand(len(x)) * 3"
   ]
  },
  {
   "cell_type": "code",
   "execution_count": 16,
   "metadata": {},
   "outputs": [
    {
     "data": {
      "text/plain": [
       "<matplotlib.collections.PathCollection at 0x15acb6920>"
      ]
     },
     "execution_count": 16,
     "metadata": {},
     "output_type": "execute_result"
    },
    {
     "data": {
      "image/png": "[encoded data removed]",
      "text/plain": [
       "<Figure size 432x288 with 1 Axes>"
      ]
     },
     "metadata": {
      "needs_background": "light"
     },
     "output_type": "display_data"
    }
   ],
   "source": [
    "plt.scatter(x, y)"
   ]
  },
  {
   "cell_type": "code",
   "execution_count": 23,
   "metadata": {},
   "outputs": [
    {
     "data": {
      "text/plain": [
       "<matplotlib.legend.Legend at 0x15add01f0>"
      ]
     },
     "execution_count": 23,
     "metadata": {},
     "output_type": "execute_result"
    },
    {
     "data": {
      "image/png": "[encoded data removed]",
      "text/plain": [
       "<Figure size 432x288 with 1 Axes>"
      ]
     },
     "metadata": {
      "needs_background": "light"
     },
     "output_type": "display_data"
    }
   ],
   "source": [
    "# fit\n",
    "w = np.random.rand()\n",
    "b = np.random.rand()\n",
    "learning_rate = 0.01\n",
    "\n",
    "# plot initial\n",
    "fig, ax = plt.subplots()\n",
    "ax.scatter(x, y, label='ground')\n",
    "y_hat = b + w * x\n",
    "ax.scatter(x, y_hat, label='predicted (initial)')\n",
    "\n",
    "\n",
    "def predict(b, w, X):\n",
    "    predicted = b + w*X\n",
    "    return predicted\n",
    "\n",
    "def score(b, w, X, y):\n",
    "    error = (y - predict(b, w, X)) ** 2\n",
    "    return error\n",
    "\n",
    "for i in range(100):\n",
    "    # take a sample\n",
    "    idx = np.random.choice(len(x))\n",
    "\n",
    "    features = x[idx]\n",
    "    true_label = y[idx]\n",
    "    \n",
    "    predicted = predict(b, w, features)\n",
    "    \n",
    "    # move the line closer\n",
    "    w += learning_rate * features * (true_label - predicted)\n",
    "    b += learning_rate * (true_label - predicted)\n",
    "\n",
    "y_hat = b + w * x\n",
    "ax.scatter(x, y_hat, label='predicted (final)')\n",
    "ax.legend()"
   ]
  },
  {
   "cell_type": "code",
   "execution_count": null,
   "metadata": {},
   "outputs": [],
   "source": []
  }
 ],
 "metadata": {
  "kernelspec": {
   "display_name": "Python 3",
   "language": "python",
   "name": "python3"
  },
  "language_info": {
   "codemirror_mode": {
    "name": "ipython",
    "version": 3
   },
   "file_extension": ".py",
   "mimetype": "text/x-python",
   "name": "python",
   "nbconvert_exporter": "python",
   "pygments_lexer": "ipython3",
   "version": "3.10.9"
  },
  "orig_nbformat": 4
 },
 "nbformat": 4,
 "nbformat_minor": 2
}
